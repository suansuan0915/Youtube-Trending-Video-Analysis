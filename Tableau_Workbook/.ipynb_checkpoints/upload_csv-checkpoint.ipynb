{
 "cells": [
  {
   "cell_type": "code",
   "execution_count": 1,
   "id": "a9b6301d",
   "metadata": {},
   "outputs": [],
   "source": [
    "from googleapiclient.http import MediaFileUpload\n",
    "from Google import Create_Service\n",
    "import os\n",
    "\n",
    "\n"
   ]
  },
  {
   "cell_type": "code",
   "execution_count": 6,
   "id": "a2be228f",
   "metadata": {},
   "outputs": [
    {
     "name": "stdout",
     "output_type": "stream",
     "text": [
      "drive v3 service created successfully\n"
     ]
    }
   ],
   "source": [
    "CLIENT_SECRET_FILE ='OAuth/google_drive_client_secret.json'\n",
    "API_NAME = 'drive'\n",
    "API_VERSION = 'v3'\n",
    "SCOPES = ['https://www.googleapis.com/auth/drive']\n",
    "\n",
    "service = Create_Service(CLIENT_SECRET_FILE, API_NAME, API_VERSION, SCOPES)\n",
    "\n",
    "def export_csv_file(file_path: str, parents: list=None):\n",
    "    if not os.path.exists(file_path):\n",
    "        print(f'{file_path} not found.')\n",
    "        return\n",
    "    try:\n",
    "        file_metadata = {\n",
    "            'name': os.path.basename(file_path).replace('.csv',''),\n",
    "            'mimeType':'application/vnd.google-apps.spreadsheet',\n",
    "            'parents': parents\n",
    "        }\n",
    "    \n",
    "        media = MediaFileUpload(filename=file_path, mimetype='text/csv')\n",
    "    \n",
    "        response = service.files().create(\n",
    "            media_body=media,\n",
    "            body=file_metadata\n",
    "        ).execute()\n",
    "    \n",
    "        print(response)\n",
    "        return response\n",
    "\n",
    "    except Exception as e:\n",
    "        print(e)\n",
    "        return\n",
    "\n",
    "csv_files = os.listdir('data/')\n",
    "\n",
    "\n",
    "    \n",
    "\n"
   ]
  },
  {
   "cell_type": "code",
   "execution_count": 13,
   "id": "f1f6fa96",
   "metadata": {},
   "outputs": [
    {
     "name": "stdout",
     "output_type": "stream",
     "text": [
      "[{'id': '1hYtFnVdW1KR6REubyhtMG6_BgbDz4bJDi3QahqB99j4', 'name': 'publishedAt_corr_us_df'}, {'id': '1sW4YmqjQqFRetU-rtdNWZ5795IrzhdM4oCLj1as5oJ0', 'name': 'weekday_hour_us_df'}]\n"
     ]
    }
   ],
   "source": [
    "def getFileList(N):\n",
    "\n",
    "    resource = service.files()\n",
    "    result = resource.list(\n",
    "                q=\"'\" + '1N7C8bRoOuiCDsQCqY_SKS1AW24kr_xQY' + \"' in parents\",\n",
    "                pageSize=N, \n",
    "                fields=\"files(id, name)\",\n",
    "            ).execute()\n",
    "    \n",
    "    return result\n",
    "\n",
    "result_dict = getFileList(5)\n",
    "\n",
    "file_list = result_dict.get('files')\n",
    "\n",
    "\n",
    "\n",
    "if len(file_list)>0:\n",
    "    print(file_list)\n",
    "    for file in file_list:\n",
    "        file_path = 'data/'\n",
    "        if file['name'] != '.DS_Store':\n",
    "            media = MediaFileUpload(filename=file_path + file['name'] + '.csv', mimetype='text/csv')\n",
    "    \n",
    "            response = service.files().update(\n",
    "                fileId = file['id'],\n",
    "                media_body = media\n",
    "            ).execute()\n",
    "else:\n",
    "    for csv_file in csv_files:\n",
    "        if csv_file != '.DS_Store':\n",
    "            export_csv_file(os.path.join('data/',csv_file))\n",
    "            export_csv_file(os.path.join('data/',csv_file), parents=['1N7C8bRoOuiCDsQCqY_SKS1AW24kr_xQY'])"
   ]
  },
  {
   "cell_type": "code",
   "execution_count": null,
   "id": "94690b3c",
   "metadata": {},
   "outputs": [],
   "source": []
  }
 ],
 "metadata": {
  "kernelspec": {
   "display_name": "Python 3 (ipykernel)",
   "language": "python",
   "name": "python3"
  },
  "language_info": {
   "codemirror_mode": {
    "name": "ipython",
    "version": 3
   },
   "file_extension": ".py",
   "mimetype": "text/x-python",
   "name": "python",
   "nbconvert_exporter": "python",
   "pygments_lexer": "ipython3",
   "version": "3.8.9"
  }
 },
 "nbformat": 4,
 "nbformat_minor": 5
}
