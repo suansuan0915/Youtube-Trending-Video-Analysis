{
 "cells": [
  {
   "cell_type": "code",
   "execution_count": 27,
   "id": "b78de3a5",
   "metadata": {},
   "outputs": [
    {
     "name": "stdout",
     "output_type": "stream",
     "text": [
      "is there\n"
     ]
    }
   ],
   "source": [
    "import os\n",
    "import requests\n",
    "import os.path\n",
    "from os import path\n",
    "\n",
    "def download_file(url, filename):\n",
    "    print('Downloading File')\n",
    "    response = requests.get(url)\n",
    "    if response.status_code == 200:\n",
    "        with open(filename, 'wb') as file:\n",
    "            for chunk in response:\n",
    "                file.write(chunk)\n",
    "            \n",
    "def downloadData():\n",
    "    csvDataDict = {\"US_youtube_trending_data.csv\": \"1KRDhh-5xgZq8llBMd4MEJ6HbySpetZb5\" , \n",
    "                   \"GB_youtube_trending_data.csv\" : \"1fRKOWSIhz7g9NUbgPgdeORfrye_BoQ-w\" , \n",
    "                   \"CA_youtube_trending_data.csv\" : \"1G5CCfV_-NcuyuZgLy-0sVy9O_qUAiJz1\",\n",
    "                   \"US_category_id.json\" : \"1v7BeZCp__eKU_gu-CyBpTsYF4rWStPub\",\n",
    "                   \"GB_category_id.json\" : \"1raD8wcVoo4yR8M6HoGuH_FURhjstu8MY\",\n",
    "                   \"CA_category_id.json\" : \"1686kv7DWe1TNBBsmrfmy9eUMv0mSK0r6\",}\n",
    "    \n",
    "    if path.isdir(\"data/\") == False:\n",
    "        os.mkdir(\"data/\")\n",
    "    for fileName, fileId in csvDataDict.items():\n",
    "        url = 'https://drive.google.com/u/2/uc?id='+fileId+'&export=download&confirm=t'\n",
    "        location = 'data/'+ fileName\n",
    "        download_file(url, location)         \n",
    "\n",
    "    print('Files Download completed')\n"
   ]
  },
  {
   "cell_type": "code",
   "execution_count": null,
   "id": "f646e7bf",
   "metadata": {},
   "outputs": [],
   "source": []
  }
 ],
 "metadata": {
  "kernelspec": {
   "display_name": "Python 3 (ipykernel)",
   "language": "python",
   "name": "python3"
  },
  "language_info": {
   "codemirror_mode": {
    "name": "ipython",
    "version": 3
   },
   "file_extension": ".py",
   "mimetype": "text/x-python",
   "name": "python",
   "nbconvert_exporter": "python",
   "pygments_lexer": "ipython3",
   "version": "3.8.9"
  }
 },
 "nbformat": 4,
 "nbformat_minor": 5
}
