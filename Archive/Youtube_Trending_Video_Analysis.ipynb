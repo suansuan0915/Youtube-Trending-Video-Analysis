{
 "cells": [
  {
   "cell_type": "code",
   "execution_count": 13,
   "id": "ae2bfac6",
   "metadata": {},
   "outputs": [],
   "source": [
    "import pandas as pd\n",
    "import seaborn as sns\n",
    "import numpy as np\n",
    "import matplotlib.pyplot as plt\n",
    "import re\n",
    "from IPython.display import display, Markdown\n",
    "from utility import YouTubeAPI_utility as api, Preprocess_EDA as eda\n",
    "\n",
    "\n",
    "df = eda.integrate_clean_data()\n",
    "\n",
    "us_df = df[(df['country']=='US')]\n",
    "gb_df = df[(df['country']=='GB')]\n",
    "\n",
    "display(us_df)\n",
    "\n",
    "#us_df = pd.read_csv(\"../data/US_youtube_trending_data.csv\")\n",
    "#gb_df = pd.read_csv(\"../data/GB_youtube_trending_data.csv\")"
   ]
  },
  {
   "cell_type": "code",
   "execution_count": 12,
   "id": "ba720eea",
   "metadata": {},
   "outputs": [],
   "source": [
    "#publishAt -> publish date, publish weekday(.isoweekday()) and publish time\n",
    "def getWeekdayTxt(date):\n",
    "    \n",
    "    weekday=\"\"\n",
    "    if date.isoweekday()== 1:\n",
    "        weekday = \"Monday\"\n",
    "    elif date.isoweekday()== 2:\n",
    "        weekday = \"Tuesday\"    \n",
    "    elif date.isoweekday()== 3:\n",
    "        weekday = \"Wednesday\"\n",
    "    elif date.isoweekday()== 4:\n",
    "        weekday = \"Thursday\"\n",
    "    elif date.isoweekday()== 5:\n",
    "        weekday = \"Friday\"\n",
    "    elif date.isoweekday()== 6:\n",
    "        weekday = \"Saturday\"\n",
    "    elif date.isoweekday()== 7:\n",
    "        weekday = \"Sunday\"\n",
    "    \n",
    "    return weekday\n",
    "\n",
    "def find_number(text):\n",
    "    \n",
    "    num = re.findall(r'[0-9]+',text)\n",
    "    \n",
    "    return \"\".join(num)\n",
    "\n",
    "\n",
    "#Analysis from trending date >= 2021-01-01\n",
    "us_df['trending_date'] = us_df['trending_date'].apply(lambda x: find_number(x))\n",
    "us_df['trending_date'] = pd.to_datetime(us_df['trending_date'], format='%Y%m%d%H%M%S')\n",
    "us_df = us_df[(us_df['trending_date']>='2021-01-01')]\n",
    "us_df = us_df.sort_values(by=['trending_date'], ascending=True)\n",
    "#breakdown publishAt datetime elements\n",
    "us_df = us_df.sort_values(by=['publishedAt'], ascending=False)\n",
    "us_df['publishedAt'] = us_df['publishedAt'].apply(lambda x: find_number(x))\n",
    "us_df['publishedAt_date'] = us_df['publishedAt'].str.slice(0, 8)\n",
    "us_df['publishedAt_date'] = pd.to_datetime(us_df['publishedAt_date'], format='%Y%m%d')\n",
    "us_df['publishedAt_weekday'] = us_df['publishedAt_date'].apply(lambda x: getWeekdayTxt(x))\n",
    "us_df['publishedAt_time'] = us_df['publishedAt'].str.slice(8, 14)\n",
    "us_df['publishedAt_hour'] = pd.to_datetime(us_df['publishedAt_time'], format='%H%M%S').dt.strftime('%I %p')\n",
    "us_df['publishedAt_time'] = pd.to_datetime(us_df['publishedAt_time'], format='%H%M%S').dt.time\n",
    "\n",
    "display(us_df)"
   ]
  },
  {
   "cell_type": "markdown",
   "id": "39c6888b",
   "metadata": {},
   "source": [
    "**publish date and publish time related on trending videos list**"
   ]
  },
  {
   "cell_type": "code",
   "execution_count": null,
   "id": "f48cd7ea",
   "metadata": {},
   "outputs": [],
   "source": [
    "weekday_us_df =  us_df[['video_id','publishedAt_weekday']].groupby('publishedAt_weekday', as_index=False).count()\n",
    "weekday_us_df['publishedAt_weekday']=pd.Categorical(weekday_us_df['publishedAt_weekday'], [\"Monday\", \"Tuesday\", \"Wednesday\",\"Thursday\",\"Friday\",\"Saturday\",\"Sunday\"])\n",
    "weekday_us_df = weekday_us_df.sort_values('publishedAt_weekday')\n",
    "display(weekday_us_df)\n",
    "weekday_us_trending_graph = weekday_us_df.plot.bar(x='publishedAt_weekday', y='video_id', figsize=(15,5), title='Number Of Trending Video Published Day of Week', alpha=0.5)      "
   ]
  },
  {
   "cell_type": "code",
   "execution_count": null,
   "id": "6b3366fe",
   "metadata": {},
   "outputs": [],
   "source": [
    "hour_us_df =  us_df[['video_id','publishedAt_hour']].groupby('publishedAt_hour', as_index=False).count()\n",
    "hour_us_df['publishedAt_hour']=pd.Categorical(hour_us_df['publishedAt_hour'], [\"12 AM\", \"01 AM\", \"02 AM\",\"03 AM\",\"04 AM\",\"05 AM\",\"06 AM\",\"07 AM\",\"08 AM\",\"09 AM\",\"10 AM\",\"11 AM\",\n",
    "                                                                              \"12 PM\", \"01 PM\", \"02 PM\",\"03 PM\",\"04 PM\",\"05 PM\",\"06 PM\",\"07 PM\",\"08 PM\",\"09 PM\",\"10 PM\",\"11 PM\"])\n",
    "hour_us_df = hour_us_df.sort_values('publishedAt_hour')\n",
    "display(hour_us_df)\n",
    "hour_us_trending_graph = hour_us_df.plot.bar(x='publishedAt_hour', y='video_id', figsize=(15,5), title='Number Of Trending Video Published Hour', alpha=0.5)      "
   ]
  },
  {
   "cell_type": "code",
   "execution_count": null,
   "id": "b6700486",
   "metadata": {},
   "outputs": [],
   "source": [
    "weekday_hour_us_df = us_df[['video_id','publishedAt_weekday','publishedAt_hour']].groupby(['publishedAt_weekday','publishedAt_hour'], as_index=False).count()\n",
    "weekday_hour_us_df['publishedAt_weekday']=pd.Categorical(weekday_hour_us_df['publishedAt_weekday'], [\"Monday\", \"Tuesday\", \"Wednesday\",\"Thursday\",\"Friday\",\"Saturday\",\"Sunday\"])\n",
    "weekday_hour_us_df['publishedAt_hour']=pd.Categorical(weekday_hour_us_df['publishedAt_hour'], [\"12 AM\", \"01 AM\", \"02 AM\",\"03 AM\",\"04 AM\",\"05 AM\",\"06 AM\",\"07 AM\",\"08 AM\",\"09 AM\",\"10 AM\",\"11 AM\",\n",
    "                                                                                                 \"12 PM\", \"01 PM\", \"02 PM\",\"03 PM\",\"04 PM\",\"05 PM\",\"06 PM\",\"07 PM\",\"08 PM\",\"09 PM\",\"10 PM\",\"11 PM\"])\n",
    "weekday_hour_us_df = weekday_hour_us_df.sort_values(['publishedAt_weekday','publishedAt_hour'])\n",
    "weekday_hour_us_df[\"publishedAt_weekday_hour\"] = weekday_hour_us_df[\"publishedAt_weekday\"].astype(str)+ \" \" + weekday_hour_us_df[\"publishedAt_hour\"].astype(str)\n",
    "weekday_hour_us_trending_graph = weekday_hour_us_df.plot.bar(x='publishedAt_weekday_hour', y='video_id', figsize=(40,10), title='Number Of Trending Video Published Weekday & Hour', alpha=0.5)  \n",
    "weekday_hour_us_df = weekday_hour_us_df.sort_values('video_id', ascending=False)\n",
    "top_10_weekday_hour_us_df = weekday_hour_us_df.head(10)\n",
    "top_10_weekday_hour_us_trending_graph = top_10_weekday_hour_us_df.plot.bar(x='publishedAt_weekday_hour', y='video_id', figsize=(15,5), title='Top 10 Published Weekday & Hour of Trending Videos', alpha=0.5)  "
   ]
  },
  {
   "cell_type": "code",
   "execution_count": null,
   "id": "379aeaef",
   "metadata": {},
   "outputs": [],
   "source": [
    "#duplicate video id\n",
    "duplicate_video_us_df = us_df[['video_id','view_count']].groupby(['video_id'], as_index=False).count()\n",
    "duplicate_video_us_df = duplicate_video_us_df.rename(columns={\"view_count\":\"count\"})\n",
    "duplicate_video_us_df = duplicate_video_us_df[(duplicate_video_us_df['count']>1)]\n",
    "display(duplicate_video_us_df.sort_values('count', ascending=True))"
   ]
  },
  {
   "cell_type": "code",
   "execution_count": null,
   "id": "b66946a3",
   "metadata": {},
   "outputs": [],
   "source": [
    "#wwB91-jxCK8\n",
    "check_duplicate_df = us_df[(us_df['video_id']=='wwB91-jxCK8')]\n",
    "display(check_duplicate_df)"
   ]
  },
  {
   "cell_type": "code",
   "execution_count": null,
   "id": "2aebee15",
   "metadata": {},
   "outputs": [],
   "source": []
  }
 ],
 "metadata": {
  "kernelspec": {
   "display_name": "Python 3 (ipykernel)",
   "language": "python",
   "name": "python3"
  },
  "language_info": {
   "codemirror_mode": {
    "name": "ipython",
    "version": 3
   },
   "file_extension": ".py",
   "mimetype": "text/x-python",
   "name": "python",
   "nbconvert_exporter": "python",
   "pygments_lexer": "ipython3",
   "version": "3.8.9"
  }
 },
 "nbformat": 4,
 "nbformat_minor": 5
}
